{
  "nbformat": 4,
  "nbformat_minor": 0,
  "metadata": {
    "colab": {
      "name": "Seminario_Algoritmos.ipynb",
      "provenance": [],
      "collapsed_sections": [],
      "include_colab_link": true
    },
    "kernelspec": {
      "name": "python3",
      "display_name": "Python 3"
    }
  },
  "cells": [
    {
      "cell_type": "markdown",
      "metadata": {
        "id": "view-in-github",
        "colab_type": "text"
      },
      "source": [
        "<a href=\"https://colab.research.google.com/github/javispp/03MAIR-Algoritmos-de-Optimizacion/blob/main/Seminario/Seminario_Algoritmos.ipynb\" target=\"_parent\"><img src=\"https://colab.research.google.com/assets/colab-badge.svg\" alt=\"Open In Colab\"/></a>"
      ]
    },
    {
      "cell_type": "markdown",
      "metadata": {
        "id": "hVbXYX-RfPWh"
      },
      "source": [
        "# Algoritmos de optimización - Seminario<br>\n",
        "Nombre y Apellidos: Javier Hilario López Sanz  <br>\n",
        "Url: https://github.com/.../03MAIR---Algoritmos-de-Optimizacion---2019/tree/master/SEMINARIO<br>\n",
        "Problema:\n",
        "> 1. Sesiones de doblaje <br>\n",
        ">2. Organizar los horarios de partidos de La Liga<br>\n",
        ">3. Combinar cifras y operaciones\n",
        "\n",
        "Descripción del problema:(copiar enunciado)\n",
        "\n",
        "....\n",
        "\n",
        "(*) La respuesta es obligatoria\n",
        "\n",
        "\n",
        "\n",
        "\n",
        "\n",
        "                                        "
      ]
    },
    {
      "cell_type": "code",
      "metadata": {
        "id": "AiskKkzZfy4e"
      },
      "source": [
        "El problema consiste en analizar el siguiente problema y diseñar un algoritmo que lo resuelva.\r\n",
        "• Disponemos de las 9 cifras del 1 al 9 (excluimos el cero) y de los 4 signos básicos de las\r\n",
        "operaciones fundamentales: suma(+), resta(-), multiplicación(*) y división(/)\r\n",
        "• Debemos combinarlos alternativamente sin repetir ninguno de ellos para obtener una\r\n",
        "cantidad dada. "
      ],
      "execution_count": null,
      "outputs": []
    },
    {
      "cell_type": "markdown",
      "metadata": {
        "id": "3_-exlrTgLd-"
      },
      "source": [
        "(*)¿Cuantas posibilidades hay sin tener en cuenta las restricciones?<br>\n",
        "\n",
        "\n",
        "\n",
        "¿Cuantas posibilidades hay teniendo en cuenta todas las restricciones.\n",
        "\n",
        "\n"
      ]
    },
    {
      "cell_type": "markdown",
      "metadata": {
        "id": "WfCUqJyKhPcw"
      },
      "source": [
        "Respuesta"
      ]
    },
    {
      "cell_type": "markdown",
      "metadata": {
        "id": "gqivuWYaukFN"
      },
      "source": [
        "**Sin tener en cuenta las restricciones**, disponemos de 9 números(N) y 4 símbolos(S) que deben ser combinados para formar una posible solución. Se debe tener en cuenta que el orden SÍ importa y SÍ se pueden repetir números y símbolos(ya que no se tiene en cuenta las restricciones).\r\n",
        "Una solución estará formada por 5 números y 4 símbolos de modo que un símbolo debe tener un número tanto antes como después del mismo.\r\n",
        "En resumen, N^5 posibles combinaciones de números y S^4 combinaciones de símbolos. Combinando ambas se obtiene 9^5*4^4 = 15.116.544 combinaciones posibles.\r\n",
        "\r\n",
        "**Teniendo en cuenta las restricciones**, disponemos de 9 números y 4 símbolos que deben ser combinados para formar una posible solución. Se debe tener en cuenta que el orden SÍ importa y NO se pueden repetir números y símbolos.\r\n",
        "Una solución estará formada por 5 números y 4 símbolos de modo que un símbolo debe tener un número tanto antes como después del mismo.\r\n",
        "En resumen,\r\n",
        "\\begin{equation}\r\n",
        "\r\n",
        "\\frac{9!}{(9-5)!} = 15.120\r\n",
        "\r\n",
        "\\end{equation}\r\n",
        "posibles combinaciones de números y\r\n",
        "\\begin{equation}\r\n",
        "\r\n",
        "\\frac{4!}{(4-4)!} = 24\r\n",
        "\r\n",
        "\\end{equation}\r\n",
        "combinaciones de símbolos. Combinando ambas se obtiene 15.120*24 = 362.880 combinaciones posibles."
      ]
    },
    {
      "cell_type": "markdown",
      "metadata": {
        "id": "dzynfVJahHoY"
      },
      "source": [
        "Modelo para el espacio de soluciones<br>\n",
        "(*) ¿Cual es la estructura de datos que mejor se adapta al problema? Argumentalo.(Es posible que hayas elegido una al principio y veas la necesidad de cambiar, arguentalo)\n"
      ]
    },
    {
      "cell_type": "markdown",
      "metadata": {
        "id": "xFIJrOwKi2Ti"
      },
      "source": [
        "Respuesta"
      ]
    },
    {
      "cell_type": "markdown",
      "metadata": {
        "id": "P1i6ZxU52Tgt"
      },
      "source": [
        "Se puede hacer una representación de una posible solución utilizando un vector de números donde en las posiciones impares el valor representa qué número se utiliza del conjunto {1,2,3,4,5,6,7,8,9}, de modo que para el valor 0 representa el número 1, el valor 1 representa el número 2, etc.\r\n",
        "Respecto a las posiciones pares, el valor representa qué símbolo se utiliza del conjunto {+,-,*,/}, de modo que para el valor 0 representa el símbolo +, el valor 1 representa el símbolo -, etc."
      ]
    },
    {
      "cell_type": "markdown",
      "metadata": {
        "id": "7Z9U2W7bi-XS"
      },
      "source": [
        "Según el modelo para el espacio de soluciones<br>\n",
        "(*)¿Cual es la función objetivo?\n",
        "\n",
        "(*)¿Es un problema de maximización o minimización?"
      ]
    },
    {
      "cell_type": "markdown",
      "metadata": {
        "id": "hBalWLM7j1_d"
      },
      "source": [
        "Respuesta"
      ]
    },
    {
      "cell_type": "markdown",
      "metadata": {
        "id": "99Vbkvl4z4i6"
      },
      "source": [
        "Pese a no ser un problema de maximización o minimización, ya que se debe encontrar una solución exacta, se puede hacer una pequeña manipulación del problema origianl. Se representará la función objetivo como el error obtenido de calcular la diferencia(en valor absoluto) entre el valor de nuestra solución y el valor que se nos proporciona como objetivo, de modo que se trata de un problema de minimización. Sin embargo, una posible solución será aceptada cuando el error sea cero ya que nos interesa saber la combinación exacta de números y símbolos necesarios para obtener un cierto valor y no sirven soluciones que se aproximen al valor objetivo."
      ]
    },
    {
      "cell_type": "markdown",
      "metadata": {
        "id": "rlnTYgY1j6I2"
      },
      "source": [
        "Diseña un algoritmo para resolver el problema por fuerza bruta"
      ]
    },
    {
      "cell_type": "markdown",
      "metadata": {
        "id": "70rDgxYXkC8r"
      },
      "source": [
        "Respuesta"
      ]
    },
    {
      "cell_type": "code",
      "metadata": {
        "id": "CJb5sQ0qkENy"
      },
      "source": [
        "def evaluarSolucion(sol, objetivo):\r\n",
        "  if len(set(sol))==9:\r\n",
        "    return eval(sol)==objetivo # Una solución es válida si se alcanza el objetivo y no se repiten ni números ni símbolos\r\n",
        "  else:\r\n",
        "    return False"
      ],
      "execution_count": 1,
      "outputs": []
    },
    {
      "cell_type": "code",
      "metadata": {
        "colab": {
          "base_uri": "https://localhost:8080/",
          "height": 35
        },
        "id": "EKMh5Kva4m84",
        "outputId": "be138ace-c593-42aa-a591-3a2efba07fb5"
      },
      "source": [
        "n = list(map(str, range(1,10))) # Lista de números\r\n",
        "s = [\"+\", \"-\", \"*\", \"/\"] # Lista de símbolos\r\n",
        "\r\n",
        "# Prueba todas las combinaciones de posibles soluciones modificando todos los números y símbolos desde la poscición 'pos' hasta el principio de la cadena\r\n",
        "# Ej: sol=\"1+1+1+1+1\", pos=1\r\n",
        "# posibles soluciones 1+1+1+1+1, 2+1+1+1+1, 3+1+1+1+1 ... 9+1+1+1+1, 1-1+1+1+1, 2-1+1+1+1 ... 9-1+1+1+1, 1*1+1+1*1 ... 9*1+1+1+1, 1/1+1+1+1 ... 9/1+1+1+1\r\n",
        "def pruebaSoluciones(sol, pos, objetivo):\r\n",
        "  opt = n if pos%2 == 0 else s # # Posiciones pares se inserta número, impares símbolo\r\n",
        "  if pos==0: # Caso base donde se prueban todas las combinaciones para la solución dada modificando solo la primera posición\r\n",
        "    for i in opt:\r\n",
        "      res = evaluarSolucion(i+sol[1:], objetivo)\r\n",
        "      if res:\r\n",
        "        return i+sol[1:]\r\n",
        "  else: # Caso estándar hace llamada recursiva probando para cada modificación del carácter en la posición 'pos' todas las combinaciones de modificar los caracteres desde la posición 0 hasta 'pos'(sin incluir)\r\n",
        "    for i in opt:\r\n",
        "      res = pruebaSoluciones(sol[:pos]+i+sol[pos+1:], pos-1, objetivo) # Llamada recursiva\r\n",
        "      if res!=None: # Si se ha encontrado solución se detiene el programa\r\n",
        "        return res\r\n",
        "  return None\r\n",
        "\r\n",
        "def fuerzaBruta(objetivo):\r\n",
        "  inicial=\"1+1+1+1+1\"\r\n",
        "  return pruebaSoluciones(inicial, len(inicial)-1, objetivo)\r\n",
        "  \r\n",
        "fuerzaBruta(5)"
      ],
      "execution_count": 4,
      "outputs": [
        {
          "output_type": "execute_result",
          "data": {
            "application/vnd.google.colaboratory.intrinsic+json": {
              "type": "string"
            },
            "text/plain": [
              "'8/4*3-2+1'"
            ]
          },
          "metadata": {
            "tags": []
          },
          "execution_count": 4
        }
      ]
    },
    {
      "cell_type": "markdown",
      "metadata": {
        "id": "tgrnsC2nkFa8"
      },
      "source": [
        "Calcula la complejidad del algoritmo por fuerza bruta"
      ]
    },
    {
      "cell_type": "markdown",
      "metadata": {
        "id": "9eUd3xwckP68"
      },
      "source": [
        "Respuesta"
      ]
    },
    {
      "cell_type": "markdown",
      "metadata": {
        "id": "AeDHVGE_RRy3"
      },
      "source": [
        "El orden de complejidad vendrá dado por N^5 * S^4, donde N es la cantidad de números y S la cantidad de símbolos. Los exponentes vienen de la cantidad de posiciones que existen al colocar los números y los símbolos. Para el peor caso, tomaremos como N el tamaño del mayor de los conjuntos existentes(en este caso los conjuntos son {1,2,3,4,5,6,7,8,9} y {+,-,*,/}, por lo que N viene dado por el tamaño del primer conjunto) y denotaremos como M el número total de posiciones(en este caso 5+4=9). Por lo tanto el orden de complejidad es exponencial y viene dado por O(N^M)"
      ]
    },
    {
      "cell_type": "markdown",
      "metadata": {
        "id": "txbrmLmskReM"
      },
      "source": [
        "(*)Diseña un algoritmo que mejore la complejidad del algortimo por fuerza bruta. Argumenta porque crees que mejora el algoritmo por fuerza bruta"
      ]
    },
    {
      "cell_type": "markdown",
      "metadata": {
        "id": "hLrVwt5QkZPD"
      },
      "source": [
        "Respuesta"
      ]
    },
    {
      "cell_type": "code",
      "metadata": {
        "id": "LsrJkLaAvZtQ"
      },
      "source": [
        "# Función fitness del problema, definida como la diferencia entre la solución y el objetivo(en valor absoluto)\r\n",
        "def fitness(sol, objetivo):\r\n",
        "  return abs(eval(sol)-objetivo)"
      ],
      "execution_count": 5,
      "outputs": []
    },
    {
      "cell_type": "code",
      "metadata": {
        "id": "m1eyM21Vkabg"
      },
      "source": [
        "# Selección de los k(5) mejores individuos\r\n",
        "def selection(soluciones, objetivo, k=5):\r\n",
        "  diferentSol = list(set(soluciones)) # Eliminamos soluciones repetidas\r\n",
        "  populationOrdered = sorted(diferentSol, key=lambda x: fitness(x, objetivo)) # Ordenación creciente en función del error\r\n",
        "  return populationOrdered[:k]"
      ],
      "execution_count": 6,
      "outputs": []
    },
    {
      "cell_type": "code",
      "metadata": {
        "id": "mrE90cSDyHXL"
      },
      "source": [
        "# Reproducción de 2 padres para dar lugar a 2 hijos, de modo que un hijo adopta los símbolos de un padre y los números del otro y viceversa\r\n",
        "def reproduce(parent1, parent2):\r\n",
        "  kids=[\"\",\"\"]\r\n",
        "  for i in range(len(parent1)):\r\n",
        "    if i%2==0:\r\n",
        "      kids[0] = kids[0]+parent1[i]\r\n",
        "      kids[1] = kids[1]+parent2[i]\r\n",
        "    else:\r\n",
        "      kids[0] = kids[0]+parent2[i]\r\n",
        "      kids[1] = kids[1]+parent1[i]\r\n",
        "  return kids\r\n",
        "\r\n",
        "# Reproducción de todos los mejores individuos entre sí\r\n",
        "def crossover(parents):\r\n",
        "  nextGen = parents # Los padres pueden pasar a la siguiente generación\r\n",
        "  for i in range(len(parents)):\r\n",
        "    for j in range(i+1, len(parents)):\r\n",
        "      nextGen = nextGen + reproduce(parents[i], parents[j])\r\n",
        "  return nextGen"
      ],
      "execution_count": 7,
      "outputs": []
    },
    {
      "cell_type": "code",
      "metadata": {
        "id": "5uBtKsTC6ArB"
      },
      "source": [
        "import random\r\n",
        "\r\n",
        "# Funcion de mutación de una solución(sol) con cierta probabilidad(prob)\r\n",
        "def mutation(sol, prob):\r\n",
        "  p = random.random()\r\n",
        "  if p < prob:\r\n",
        "    i = random.choice(list(range(0,len(sol), 2))) # Selección de una posición que contiene un número\r\n",
        "    mutatedSol = sol[:i] + random.choice(list(set(n)-set(sol))) + sol[i+1:] # Mutación en la que dicho número cambia\r\n",
        "  else:\r\n",
        "    mutatedSol = sol\r\n",
        "  p = random.random()\r\n",
        "  if p < prob:\r\n",
        "    i = sorted(random.sample(list(range(1,len(sol), 2)), 2)) # Selección de dos posiciónes que contienen un símbolo\r\n",
        "    mutatedSol = mutatedSol[:i[0]] + mutatedSol[i[1]] + mutatedSol[i[0]+1:i[1]] + mutatedSol[i[0]] + mutatedSol[i[1]+1:] # Mutación en la que dos símbolos intercambian posiciones\r\n",
        "  return mutatedSol"
      ],
      "execution_count": 8,
      "outputs": []
    },
    {
      "cell_type": "code",
      "metadata": {
        "id": "5vKbEwqQ8Qj7"
      },
      "source": [
        "# Generación de individuos aleatorios, tantos como la variable \"people\"\r\n",
        "def randomPop(people):\r\n",
        "  population=[]\r\n",
        "  for i in range(people):\r\n",
        "    sample=\"\"\r\n",
        "    for j in range(9): # Un individuo consta de 9 caracteres(números y símbolos combinados alternativamente)\r\n",
        "      opt = n if j%2 == 0 else s # Posiciones pares se pone número, impares símbolo\r\n",
        "      sample += random.choice(list(set(opt)-set(sample))) # Se elige el número o símbolo aleatoriamente mientras no se repita\r\n",
        "    population.append(sample)\r\n",
        "  return population"
      ],
      "execution_count": 9,
      "outputs": []
    },
    {
      "cell_type": "code",
      "metadata": {
        "id": "tkeQdJQs-hcX"
      },
      "source": [
        "# Método principal del algoritmo genético\r\n",
        "def evolution(objetivo, mutationProb=0.4, maxGen=10000, k=5):\r\n",
        "  generation = 0 # Número de generaciones\r\n",
        "  population = randomPop(40) # Población inicial de 40 individuos\r\n",
        "  selected = selection(population, objetivo, k) # Seleccionamos los k(5) mejores\r\n",
        "\r\n",
        "  while fitness(selected[0], objetivo)!=0 and generation < maxGen: # Si no se encuentra el objetivo y llevamos menos de 'maxGen'(10mil por defecto) generaciones\r\n",
        "    population = crossover(selected)\r\n",
        "    for i in range(len(population)):\r\n",
        "      population[i]=mutation(population[i], mutationProb) # Probabilidad de 'mutationProb'(0.4 por defecto) de que los individuos muten\r\n",
        "    selected = selection(population, objetivo)\r\n",
        "    generation+=1\r\n",
        "  return [selected[0], generation] # Se devuelve tanto la solución como la generación en la que se encontró dicha solución"
      ],
      "execution_count": 10,
      "outputs": []
    },
    {
      "cell_type": "markdown",
      "metadata": {
        "id": "eGDB4K6uk1iN"
      },
      "source": [
        "(*)Calcula la complejidad del algoritmo "
      ]
    },
    {
      "cell_type": "markdown",
      "metadata": {
        "id": "NhpTh_BPk1ms"
      },
      "source": [
        "Respuesta"
      ]
    },
    {
      "cell_type": "markdown",
      "metadata": {
        "id": "kNVt66BX9SMX"
      },
      "source": [
        "Para el cálculo de la complejidad se deberá tener en cuenta el tamaño de la población ya que se deberá calcular la función fitness para cada individuo, así como la función de reproducción de los padres para calcular la siguiente generación. Esto viene dado por\r\n",
        "\\begin{equation}\r\n",
        "\\frac{5!}{2!(5-2)!}=10\r\n",
        "\\end{equation}\r\n",
        "operacines de reproducción ya que solo se aparean entre sí(de 2 en 2) los 5 mejores individuos."
      ]
    },
    {
      "cell_type": "markdown",
      "metadata": {
        "id": "3M6QjTsSkmYe"
      },
      "source": [
        "Según el problema (y tenga sentido), diseña un juego de datos de entrada aleatorios"
      ]
    },
    {
      "cell_type": "markdown",
      "metadata": {
        "id": "Jc3_OlyNkvjZ"
      },
      "source": [
        "Respuesta"
      ]
    },
    {
      "cell_type": "code",
      "metadata": {
        "id": "sJ-N2etjkyWc"
      },
      "source": [
        "test = []\r\n",
        "for i in range(10): # 10 casos de test\r\n",
        "  test.append(random.randint(-50,50)) # Añadimos números aleatorios como objetivo\r\n",
        "test.append(-99999) # Buscamos mínimo valor que encuentre, pese a saber que el objetivo es inalcanzable\r\n",
        "test.append(99999) # Buscamos máximo valor que encuentre, pese a saber que el objetivo es inalcanzable"
      ],
      "execution_count": null,
      "outputs": []
    },
    {
      "cell_type": "markdown",
      "metadata": {
        "id": "zy5ZROmjlGo1"
      },
      "source": [
        "Aplica el algoritmo al juego de datos generado"
      ]
    },
    {
      "cell_type": "markdown",
      "metadata": {
        "id": "_Cmj-PVylMsa"
      },
      "source": [
        "Respuesta"
      ]
    },
    {
      "cell_type": "code",
      "metadata": {
        "id": "Jkx8GeiYlUz1",
        "colab": {
          "base_uri": "https://localhost:8080/"
        },
        "outputId": "5d619073-f5f7-41cc-d4c9-ae56d5571343"
      },
      "source": [
        "for i in test:\r\n",
        "  sol, gen = evolution(i)\r\n",
        "  print(\"Objetivo:\",i,\"Solución:\",sol,\"Evaluación de solución:\",eval(sol),\"Generación:\",gen)"
      ],
      "execution_count": null,
      "outputs": [
        {
          "output_type": "stream",
          "text": [
            "Objetivo: 12 Solución: 2*9+6/3-8 Evaluación de solución: 12.0 Generación: 7\n",
            "Objetivo: -20 Solución: 8/4+5-9*3 Evaluación de solución: -20.0 Generación: 33\n",
            "Objetivo: -15 Solución: 4+1-5/2*8 Evaluación de solución: -15.0 Generación: 14\n",
            "Objetivo: -50 Solución: 2/1-8*7+4 Evaluación de solución: -50.0 Generación: 1\n",
            "Objetivo: -40 Solución: 3+8/4-9*5 Evaluación de solución: -40.0 Generación: 24\n",
            "Objetivo: 3 Solución: 9-7+3*2/6 Evaluación de solución: 3.0 Generación: 173\n",
            "Objetivo: -50 Solución: 6/2+3-7*8 Evaluación de solución: -50.0 Generación: 43\n",
            "Objetivo: -46 Solución: 4-8*7/1+6 Evaluación de solución: -46.0 Generación: 3681\n",
            "Objetivo: 35 Solución: 4*9+7-8/1 Evaluación de solución: 35.0 Generación: 20\n",
            "Objetivo: 11 Solución: 4-9/3+2*5 Evaluación de solución: 11.0 Generación: 3\n",
            "Objetivo: -99999 Solución: 2/7-9*8+1 Evaluación de solución: -70.71428571428571 Generación: 10000\n",
            "Objetivo: 99999 Solución: 8*9+7-1/6 Evaluación de solución: 78.83333333333333 Generación: 10000\n"
          ],
          "name": "stdout"
        }
      ]
    },
    {
      "cell_type": "markdown",
      "metadata": {
        "id": "eTFWUJQrtGcv"
      },
      "source": [
        "Enumera las referencias que has utilizado(si ha sido necesario) para llevar a cabo el trabajo"
      ]
    },
    {
      "cell_type": "markdown",
      "metadata": {
        "id": "YKQ_mRBttWsP"
      },
      "source": [
        " Respuesta"
      ]
    },
    {
      "cell_type": "markdown",
      "metadata": {
        "id": "kAkDPUyRtYyH"
      },
      "source": [
        "Describe brevemente las lineas de como crees que es posible avanzar en el estudio del problema. Ten en cuenta incluso posibles variaciones del problema y/o variaciones al alza del tamaño"
      ]
    },
    {
      "cell_type": "markdown",
      "metadata": {
        "id": "IE0uZmo-tZu-"
      },
      "source": [
        "Se podría realizar una modificación del problema permitiendo el uso repetido de números y símbolos o incluso extender la cantidad utilizada de estos, así como la combinación de dos números seguidos para formar un número de dos o más dígitos, dando posibilidad a encontrar un número más amplio de objetivos.\r\n",
        "A su vez se podría dar la restricción de hacer uso de todos los números disponibles(repitiendo o sin repetir) o incluso minimizar el número de símbolos utilizados para acercarse lo máximo a la solución(se debería estudiar cómo tener en cuenta ambos objetivos simultánemente).\r\n",
        "Respecto a la implementación, podría probarse más técnicas a la hora de mutar y realizar *crossover* con el objetivo de ver si se obtienen mejores resultados, así como estudiar cómo afecta la probabilidad de mutación."
      ]
    }
  ]
}