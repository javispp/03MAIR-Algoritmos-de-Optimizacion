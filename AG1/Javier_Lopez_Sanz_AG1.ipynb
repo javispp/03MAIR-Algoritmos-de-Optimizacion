{
  "nbformat": 4,
  "nbformat_minor": 0,
  "metadata": {
    "colab": {
      "name": "Javier Lopez Sanz - AG1.ipynb",
      "provenance": [],
      "collapsed_sections": [],
      "mount_file_id": "17SFTZdnnAe-8XEuNEnBTnv5iKwMiVKYu",
      "authorship_tag": "ABX9TyPP6g8zCVDgvpLjNxRxpfEL",
      "include_colab_link": true
    },
    "kernelspec": {
      "name": "python3",
      "display_name": "Python 3"
    }
  },
  "cells": [
    {
      "cell_type": "markdown",
      "metadata": {
        "id": "view-in-github",
        "colab_type": "text"
      },
      "source": [
        "<a href=\"https://colab.research.google.com/github/javispp/03MAIR-Algoritmos-de-Optimizacion/blob/main/AG1/Javier_Lopez_Sanz_AG1.ipynb\" target=\"_parent\"><img src=\"https://colab.research.google.com/assets/colab-badge.svg\" alt=\"Open In Colab\"/></a>"
      ]
    },
    {
      "cell_type": "markdown",
      "metadata": {
        "id": "nALn_U80rhWg"
      },
      "source": [
        "## AG1 - Actividad Guiada 1\r\n",
        "\r\n",
        "#### Nombre: Javier López Sanz\r\n",
        "\r\n",
        "#### URL: https://colab.research.google.com/drive/17SFTZdnnAe-8XEuNEnBTnv5iKwMiVKYu?usp=sharing\r\n",
        "https://github.com/javispp/03MAIR-Algoritmos-de-Optimizacion/tree/main/AG1\r\n"
      ]
    },
    {
      "cell_type": "markdown",
      "metadata": {
        "id": "77a6XSpRvfMq"
      },
      "source": [
        "## Torres de Hanoi con Divide y Vencerás"
      ]
    },
    {
      "cell_type": "code",
      "metadata": {
        "id": "q2dQmnnpvhgf"
      },
      "source": [
        "def torres_hanoi(N, desde, hasta):\r\n",
        "  if N==1:\r\n",
        "    print(\"Lleva la ficha \", desde, \" hasta \", hasta)\r\n",
        "  else:\r\n",
        "    torres_hanoi(N-1, desde, 6-desde-hasta)\r\n",
        "    print(\"Lleva la ficha \", desde, \" hasta \", hasta)\r\n",
        "    torres_hanoi(N-1, 6-desde-hasta, hasta)"
      ],
      "execution_count": null,
      "outputs": []
    },
    {
      "cell_type": "code",
      "metadata": {
        "colab": {
          "base_uri": "https://localhost:8080/"
        },
        "id": "IIXxn48dxqEL",
        "outputId": "8d45e315-d290-44f0-b522-26fcd13ae46f"
      },
      "source": [
        "torres_hanoi(3, 1, 3)"
      ],
      "execution_count": null,
      "outputs": [
        {
          "output_type": "stream",
          "text": [
            "Lleva la ficha  1  hasta  3\n",
            "Lleva la ficha  1  hasta  2\n",
            "Lleva la ficha  3  hasta  2\n",
            "Lleva la ficha  1  hasta  3\n",
            "Lleva la ficha  2  hasta  1\n",
            "Lleva la ficha  2  hasta  3\n",
            "Lleva la ficha  1  hasta  3\n"
          ],
          "name": "stdout"
        }
      ]
    },
    {
      "cell_type": "markdown",
      "metadata": {
        "id": "TEBhsRq3WFM0"
      },
      "source": [
        "## Devolución de cambio por técnica voraz"
      ]
    },
    {
      "cell_type": "code",
      "metadata": {
        "colab": {
          "base_uri": "https://localhost:8080/"
        },
        "id": "titPQ3uMWFqp",
        "outputId": "6d943a39-f375-411e-c832-a56acc6a0fa0"
      },
      "source": [
        "def cambio_monedas(N, SM):\r\n",
        "  SOLUCION = [0]*len(SM)\r\n",
        "  ValorAcumulado = 0\r\n",
        "\r\n",
        "  for i, valor in enumerate(SM):\r\n",
        "    monedas = (N-ValorAcumulado)//valor\r\n",
        "    SOLUCION[i] = monedas\r\n",
        "    ValorAcumulado = ValorAcumulado + monedas*valor\r\n",
        "\r\n",
        "    if ValorAcumulado == N:\r\n",
        "      return SOLUCION\r\n",
        "\r\n",
        "cambio_monedas(137, [25,10,5,1])"
      ],
      "execution_count": null,
      "outputs": [
        {
          "output_type": "execute_result",
          "data": {
            "text/plain": [
              "[5, 1, 0, 2]"
            ]
          },
          "metadata": {
            "tags": []
          },
          "execution_count": 3
        }
      ]
    },
    {
      "cell_type": "markdown",
      "metadata": {
        "id": "6HrNwR6HXJVb"
      },
      "source": [
        "## N-Reinas por técnica de vuelta atrás"
      ]
    },
    {
      "cell_type": "code",
      "metadata": {
        "colab": {
          "base_uri": "https://localhost:8080/"
        },
        "id": "n6BayUgiXO6p",
        "outputId": "8b0b098a-15fe-4ee0-a20f-d7f48292369b"
      },
      "source": [
        "def es_prometedora(SOLUCION, etapa):\r\n",
        "  for i in range(etapa+1):\r\n",
        "    if SOLUCION.count(SOLUCION[i])>1:\r\n",
        "      return False\r\n",
        "\r\n",
        "    for j in range(i+1, etapa+1):\r\n",
        "      if abs(i-j) == abs(SOLUCION[i]-SOLUCION[j]):\r\n",
        "        return False\r\n",
        "  return True\r\n",
        "\r\n",
        "def reinas(N, solucion=[], etapa=0):\r\n",
        "  if len(solucion) == 0:\r\n",
        "    solucion=[0 for i in range(N)]\r\n",
        "\r\n",
        "  for i in range(1, N+1):\r\n",
        "    solucion[etapa] = i\r\n",
        "    if es_prometedora(solucion, etapa):\r\n",
        "      if etapa == N-1:\r\n",
        "        print(solucion)\r\n",
        "      else:\r\n",
        "        reinas(N, solucion, etapa+1)\r\n",
        "    else:\r\n",
        "      None\r\n",
        "    solucion[etapa] = 0\r\n",
        "\r\n",
        "reinas(4)"
      ],
      "execution_count": null,
      "outputs": [
        {
          "output_type": "stream",
          "text": [
            "[2, 4, 1, 3]\n",
            "[3, 1, 4, 2]\n"
          ],
          "name": "stdout"
        }
      ]
    },
    {
      "cell_type": "markdown",
      "metadata": {
        "id": "T2iQBOcyZGjy"
      },
      "source": [
        "## Par de puntos más cercano"
      ]
    },
    {
      "cell_type": "code",
      "metadata": {
        "colab": {
          "base_uri": "https://localhost:8080/"
        },
        "id": "HC9kh3J3ZI8e",
        "outputId": "226f2fba-1bdf-49ff-e74a-95d64457aefa"
      },
      "source": [
        "import numpy as np\r\n",
        "import math\r\n",
        "\r\n",
        "def distancia(a,b):\r\n",
        "  return np.linalg.norm(a-b)\r\n",
        "\r\n",
        "\r\n",
        "# O(n^2)\r\n",
        "def par_cercano(puntos):\r\n",
        "  minimo = distancia(puntos[0],puntos[1])\r\n",
        "  puntos_cercanos=[puntos[0], puntos[1]]\r\n",
        "  for i in range(len(puntos)):\r\n",
        "    for j in range(i+1, len(puntos)):\r\n",
        "      dist = distancia(puntos[i],puntos[j])\r\n",
        "      if dist<minimo:\r\n",
        "        minimo = dist\r\n",
        "        puntos_cercanos[0] = puntos[i]\r\n",
        "        puntos_cercanos[1] = puntos[j]\r\n",
        "  return [minimo, puntos_cercanos]\r\n",
        "\r\n",
        "puntos = []\r\n",
        "for i in range(10): # Añadir puntos a la lista\r\n",
        "  puntos.append(np.array([np.random.randint(0,50),np.random.randint(0,50)])) # Uso de puntos 2D con valores enteros entre 0-49\r\n",
        "puntos = sorted(puntos, key=lambda punto: punto[0]) # Coste previo O(n*log(n))\r\n",
        "print(puntos)\r\n",
        "minimo,pts = par_cercano(puntos)\r\n",
        "print(\"Min. distancia = \", minimo)\r\n",
        "print(\"Puntos = \", pts)"
      ],
      "execution_count": null,
      "outputs": [
        {
          "output_type": "stream",
          "text": [
            "[array([11, 17]), array([13,  6]), array([18, 40]), array([27,  9]), array([28,  5]), array([32, 13]), array([32,  4]), array([34,  6]), array([34, 23]), array([37,  0])]\n",
            "Min. distancia =  2.8284271247461903\n",
            "Puntos =  [array([32,  4]), array([34,  6])]\n"
          ],
          "name": "stdout"
        }
      ]
    },
    {
      "cell_type": "code",
      "metadata": {
        "colab": {
          "base_uri": "https://localhost:8080/"
        },
        "id": "fW99XScZbvP6",
        "outputId": "117b4772-ce6b-4003-eeda-f7322324b07b"
      },
      "source": [
        "# O(n*log(n))\r\n",
        "def par_cercano_dyv(puntos):\r\n",
        "  if len(puntos) < 2:\r\n",
        "    return[math.inf,[]]\r\n",
        "  elif len(puntos) == 2:\r\n",
        "    return[distancia(puntos[0],puntos[1]),puntos]\r\n",
        "  else:\r\n",
        "    puntos_cercanos=[0,0]\r\n",
        "    # Separamos la lista en dos\r\n",
        "    medio = int(len(puntos)/2)\r\n",
        "    puntos_izq = puntos[:medio]\r\n",
        "    puntos_dcha = puntos[medio:]\r\n",
        "    # Resolvemos para cada mitad\r\n",
        "    minIzq, ptos_izq = par_cercano_dyv(puntos_izq)\r\n",
        "    minDcha, ptos_dcha = par_cercano_dyv(puntos_dcha)\r\n",
        "    if minIzq < minDcha:\r\n",
        "      minTot = minIzq\r\n",
        "      puntos_cercanos=ptos_izq\r\n",
        "    else:\r\n",
        "      minTot = minDcha\r\n",
        "      puntos_cercanos=ptos_dcha\r\n",
        "    # Miramos si existe algun par de puntos mas cercanos que la solucion obtenida hasta ahora\r\n",
        "    # teniendo en cuenta que el par de puntos tiene un punto en la izq y otro en la dcha\r\n",
        "    centro = []\r\n",
        "    for i in puntos:\r\n",
        "      if i[0]-puntos[medio][0]<minTot:\r\n",
        "        centro.append(i)\r\n",
        "    # Fuerza bruta sobre los puntos mencionados anteriormente\r\n",
        "    # Para ello ponemos un umbral que considerar para la dimension x con valor de la\r\n",
        "    # distancia mínima entre el par más cercano de la izq y el par más cercano de la dcha\r\n",
        "    for i in range(len(centro)):\r\n",
        "      for j in range(i+1, len(puntos)):\r\n",
        "        dist = distancia(puntos[i],puntos[j])\r\n",
        "        if dist<minTot:\r\n",
        "          minTot = dist\r\n",
        "          puntos_cercanos[0] = puntos[i]\r\n",
        "          puntos_cercanos[1] = puntos[j]\r\n",
        "    \r\n",
        "    return [minTot, puntos_cercanos]\r\n",
        "\r\n",
        "print(puntos)\r\n",
        "minimo,pts = par_cercano_dyv(puntos)\r\n",
        "print(\"Min. distancia = \", minimo)\r\n",
        "print(\"Puntos = \", pts)"
      ],
      "execution_count": null,
      "outputs": [
        {
          "output_type": "stream",
          "text": [
            "[array([11, 17]), array([13,  6]), array([18, 40]), array([27,  9]), array([28,  5]), array([32, 13]), array([32,  4]), array([34,  6]), array([34, 23]), array([37,  0])]\n",
            "Min. distancia =  2.8284271247461903\n",
            "Puntos =  [array([32,  4]), array([34,  6])]\n"
          ],
          "name": "stdout"
        }
      ]
    }
  ]
}